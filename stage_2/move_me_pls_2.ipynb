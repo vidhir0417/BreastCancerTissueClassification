{
 "cells": [
  {
   "cell_type": "code",
   "execution_count": 1,
   "metadata": {},
   "outputs": [],
   "source": [
    "import os\n",
    "import shutil\n",
    "from sklearn.model_selection import train_test_split\n",
    "\n",
    "types_cancer = ['adenosis', \n",
    "                'fibroadenoma', \n",
    "                'phyllodes_tumor', \n",
    "                'tubular_adenoma',\n",
    "                'ductal_carcinoma',\n",
    "                'lobular_carcinoma',\n",
    "                'mucinous_carcinoma',\n",
    "                'papillary_carcinoma']"
   ]
  },
  {
   "cell_type": "code",
   "execution_count": 2,
   "metadata": {},
   "outputs": [],
   "source": [
    "source_dir = os.path.join(os.curdir, \"BreaKHis_v1 2\")"
   ]
  },
  {
   "cell_type": "code",
   "execution_count": 3,
   "metadata": {},
   "outputs": [],
   "source": [
    "for cancer in types_cancer:\n",
    "    directory = f\"data_p2/{cancer}\"\n",
    "\n",
    "    os.makedirs(directory, exist_ok=True)"
   ]
  },
  {
   "cell_type": "code",
   "execution_count": 4,
   "metadata": {},
   "outputs": [],
   "source": [
    "train_direcory = \"data_p2/train\"\n",
    "test_direcory = \"data_p2/test\"\n",
    "train_val_direcory = \"data_p2/train_val\"\n",
    "val_direcory = \"data_p2/val\"\n",
    "\n",
    "os.makedirs(train_direcory, exist_ok=True)\n",
    "os.makedirs(test_direcory, exist_ok=True)\n",
    "os.makedirs(train_val_direcory, exist_ok=True)\n",
    "os.makedirs(val_direcory, exist_ok=True)"
   ]
  },
  {
   "cell_type": "code",
   "execution_count": 5,
   "metadata": {},
   "outputs": [],
   "source": [
    "final_dirs = []\n",
    "dirs = [source_dir + \"/\" + el for el in os.listdir(source_dir) if \".\" not in el]\n",
    "while len(dirs) != 0:\n",
    "    new_all = []\n",
    "    for i, dir in enumerate(dirs):\n",
    "        new = [dir + \"/\" + el for el in os.listdir(dir) if \".\" not in el]\n",
    "        if len(new) == 0:\n",
    "            final_dirs.append(dir)\n",
    "        new_all.extend(new)\n",
    "    dirs = new_all"
   ]
  },
  {
   "cell_type": "code",
   "execution_count": 6,
   "metadata": {},
   "outputs": [],
   "source": [
    "for folder in final_dirs:\n",
    "    for cancer in types_cancer:\n",
    "        if cancer in folder:\n",
    "            for img, img_name in zip([folder + \"/\" + el for el in os.listdir(folder)], os.listdir(folder)):\n",
    "                shutil.copy2(img, f\"data_p2/{cancer}/\"+img_name) "
   ]
  },
  {
   "cell_type": "code",
   "execution_count": 7,
   "metadata": {},
   "outputs": [],
   "source": [
    "# Define the source and destination directories\n",
    "source_directory = os.path.join(os.curdir, 'data_p2')\n",
    "\n",
    "# Define the names of the source folders\n",
    "source_folders = types_cancer\n",
    "\n",
    "# Create labels and corresponding indices\n",
    "labels = []\n",
    "indices = []\n",
    "for idx, folder in enumerate(source_folders):\n",
    "    folder_path = source_directory + \"/\" + folder\n",
    "    images = os.listdir(folder_path)\n",
    "    labels.extend([str(idx) + \"_\" + el.split(\"-\")[-2] for el in images]) \n",
    "    indices.extend(range(len(images)))   # Assign unique index to each image\n",
    "\n",
    "# Perform stratified split of images into train and test sets\n",
    "train_indices, test_indices, train_labels, test_labels = train_test_split(\n",
    "    indices, labels, train_size=0.8, test_size=0.2, random_state=42, stratify=labels\n",
    ")\n",
    "\n",
    "# Move train images to the train directory\n",
    "for idx, label in zip(train_indices, train_labels): # Iteration over a pair of data which is consisted of train indices and train labels\n",
    "    folder = source_folders[int(label.split(\"_\")[0])] # The folder retrieved is corresponding to the label attached, for example source_folders[0] will represent airplane folder\n",
    "    image_name = os.listdir(source_directory + \"/\" + folder)[idx] # Create a variable which holds only one image at each iteration\n",
    "    source_path = source_directory + \"/\" + folder + \"/\" + image_name # path of the defined image previously\n",
    "    destination_path = train_val_direcory + \"/\" + folder + \"/\" + image_name # Where to move the image\n",
    "    os.makedirs(os.path.dirname(destination_path), exist_ok=True) # Assure that the directory exists if not create one\n",
    "    shutil.copy2(source_path, destination_path) # Copy the image from the source path to the destination path\n",
    "\n",
    "# Move test images to the test directory\n",
    "for idx, label in zip(test_indices, test_labels):\n",
    "    folder = source_folders[int(label.split(\"_\")[0])]\n",
    "    image_name = os.listdir(os.path.join(source_directory, folder))[idx]\n",
    "    source_path = source_directory + \"/\" + folder + \"/\" + image_name\n",
    "    destination_path = test_direcory + \"/\" + folder + \"/\" + image_name\n",
    "    os.makedirs(os.path.dirname(destination_path), exist_ok=True)\n",
    "    shutil.copy2(source_path, destination_path)\n",
    "\n",
    "# Define the source and destination directories\n",
    "source_directory = os.path.join(os.curdir, 'data_p2/train_val')\n",
    "\n",
    "# Define the names of the source folders\n",
    "source_folders = types_cancer\n",
    "\n",
    "# Create labels and corresponding indices\n",
    "labels = []\n",
    "indices = []\n",
    "for idx, folder in enumerate(source_folders):\n",
    "    folder_path = source_directory + \"/\" + folder\n",
    "    images = os.listdir(folder_path)\n",
    "    labels.extend([str(idx) + \"_\" + el.split(\"-\")[-2] for el in images]) \n",
    "    indices.extend(range(len(images)))   # Assign unique index to each image\n",
    "\n",
    "# Perform stratified split of images into train and test sets\n",
    "train_indices, test_indices, train_labels, test_labels = train_test_split(\n",
    "    indices, labels, train_size=0.75, test_size=0.25, random_state=42, stratify=labels\n",
    ")\n",
    "\n",
    "# Move train images to the train directory\n",
    "for idx, label in zip(train_indices, train_labels): # Iteration over a pair of data which is consisted of train indices and train labels\n",
    "    folder = source_folders[int(label.split(\"_\")[0])]  # The folder retrieved is corresponding to the label attached, for example source_folders[0] will represent airplane folder\n",
    "    image_name = os.listdir(source_directory + \"/\" + folder)[idx] # Create a variable which holds only one image at each iteration\n",
    "    source_path = source_directory + \"/\" + folder + \"/\" + image_name # path of the defined image previously\n",
    "    destination_path = train_direcory + \"/\" + folder + \"/\" + image_name # Where to move the image\n",
    "    os.makedirs(os.path.dirname(destination_path), exist_ok=True) # Assure that the directory exists if not create one\n",
    "    shutil.copy2(source_path, destination_path) # Copy the image from the source path to the destination path\n",
    "\n",
    "# Move test images to the test directory\n",
    "for idx, label in zip(test_indices, test_labels):\n",
    "    folder = source_folders[int(label.split(\"_\")[0])] \n",
    "    image_name = os.listdir(os.path.join(source_directory, folder))[idx]\n",
    "    source_path = source_directory + \"/\" + folder + \"/\" + image_name\n",
    "    destination_path = val_direcory + \"/\" + folder + \"/\" + image_name\n",
    "    os.makedirs(os.path.dirname(destination_path), exist_ok=True)\n",
    "    shutil.copy2(source_path, destination_path)"
   ]
  },
  {
   "cell_type": "code",
   "execution_count": null,
   "metadata": {},
   "outputs": [],
   "source": []
  }
 ],
 "metadata": {
  "kernelspec": {
   "display_name": "deep_learning",
   "language": "python",
   "name": "python3"
  },
  "language_info": {
   "codemirror_mode": {
    "name": "ipython",
    "version": 3
   },
   "file_extension": ".py",
   "mimetype": "text/x-python",
   "name": "python",
   "nbconvert_exporter": "python",
   "pygments_lexer": "ipython3",
   "version": "3.9.19"
  }
 },
 "nbformat": 4,
 "nbformat_minor": 2
}
