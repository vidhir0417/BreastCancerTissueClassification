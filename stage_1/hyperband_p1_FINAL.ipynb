{
 "cells": [
  {
   "cell_type": "code",
   "execution_count": 1,
   "metadata": {},
   "outputs": [
    {
     "name": "stderr",
     "output_type": "stream",
     "text": [
      "C:\\Users\\X571\\AppData\\Local\\Temp\\ipykernel_7372\\4153684259.py:2: DeprecationWarning: `import kerastuner` is deprecated, please use `import keras_tuner`.\n",
      "  import kerastuner as kt\n"
     ]
    }
   ],
   "source": [
    "import keras\n",
    "import kerastuner as kt\n",
    "from sklearn.metrics import classification_report\n",
    "import numpy as np\n",
    "from keras.utils import load_img, img_to_array\n",
    "import cv2\n",
    "#from keras.preprocessing import image\n",
    "#from keras.applications.vgg16 import preprocess_input, decode_predictions\n",
    "from keras import backend as K\n",
    "import os\n",
    "import random\n",
    "import numpy as np\n",
    "from PIL import Image\n",
    "import tensorflow as tf\n",
    "from sklearn.utils import shuffle\n",
    "import matplotlib.pyplot as plt \n",
    "#from adopt import ADOPT"
   ]
  },
  {
   "cell_type": "markdown",
   "metadata": {},
   "source": [
    "# moving"
   ]
  },
  {
   "cell_type": "code",
   "execution_count": 5,
   "metadata": {},
   "outputs": [
    {
     "data": {
      "text/plain": [
       "'c:\\\\Users\\\\X571\\\\Downloads\\\\DeepLearning24_25'"
      ]
     },
     "execution_count": 5,
     "metadata": {},
     "output_type": "execute_result"
    }
   ],
   "source": [
    "# Get the current working directory\n",
    "current_directory = 'c:\\\\Users\\\\X571\\\\Downloads\\\\DeepLearning24_25'\n",
    "current_directory"
   ]
  },
  {
   "cell_type": "code",
   "execution_count": 6,
   "metadata": {},
   "outputs": [
    {
     "name": "stdout",
     "output_type": "stream",
     "text": [
      "Number of images in each class in the train directory:\n",
      "{'benign': 1984, 'malignant': 4343}\n",
      "\n",
      "Number of images in each class in the test directory:\n",
      "{'benign': 496, 'malignant': 1086}\n"
     ]
    }
   ],
   "source": [
    "# Define the paths to train and test directories\n",
    "train_directory = current_directory + '/data/train'\n",
    "test_directory = current_directory + '/data/test'\n",
    "# Function to count the number of images in a directory\n",
    "def count_images(directory):\n",
    "    class_counts = {}\n",
    "    for folder in os.listdir(directory):\n",
    "        folder_path = os.path.join(directory, folder)\n",
    "        if os.path.isdir(folder_path):\n",
    "            class_counts[folder] = len(os.listdir(folder_path))\n",
    "    return class_counts\n",
    "\n",
    "# Count images in train and test directories for each class\n",
    "train_class_counts = count_images(train_directory)\n",
    "test_class_counts = count_images(test_directory)\n",
    "\n",
    "print(\"Number of images in each class in the train directory:\")\n",
    "print(train_class_counts)\n",
    "\n",
    "print(\"\\nNumber of images in each class in the test directory:\")\n",
    "print(test_class_counts)"
   ]
  },
  {
   "cell_type": "code",
   "execution_count": 7,
   "metadata": {},
   "outputs": [
    {
     "name": "stdout",
     "output_type": "stream",
     "text": [
      "Largest image in the train directory:\n",
      "File Path: c:\\Users\\X571\\Downloads\\DeepLearning24_25/data/train\\benign\\SOB_B_A-14-22549AB-100-001.png\n",
      "Size (Width x Height): (700, 460)\n",
      "\n",
      "Smallest image in the train directory:\n",
      "File Path: c:\\Users\\X571\\Downloads\\DeepLearning24_25/data/train\\malignant\\SOB_M_PC-14-12465-100-002.png\n",
      "Size (Width x Height): (700, 456)\n",
      "\n",
      "Largest image in the test directory:\n",
      "File Path: c:\\Users\\X571\\Downloads\\DeepLearning24_25/data/test\\benign\\SOB_B_A-14-22549AB-100-002.png\n",
      "Size (Width x Height): (700, 460)\n",
      "\n",
      "Smallest image in the test directory:\n",
      "File Path: c:\\Users\\X571\\Downloads\\DeepLearning24_25/data/test\\malignant\\SOB_M_PC-14-12465-100-001.png\n",
      "Size (Width x Height): (700, 456)\n"
     ]
    }
   ],
   "source": [
    "# Define the paths to train and test directories\n",
    "train_directory = current_directory + '/data/train'\n",
    "test_directory = current_directory + '/data/test'\n",
    "\n",
    "# Function to find the largest and smallest images in a directory\n",
    "def find_extreme_images(directory):\n",
    "    # Define the variables for the smallest and biggest images\n",
    "    largest_image = None\n",
    "    smallest_image = None\n",
    "    largest_size = 0\n",
    "    smallest_size = float('inf')  # Infinite number to initialize\n",
    "\n",
    "    # Only loop through the 'benign' and 'malignant' subfolders\n",
    "    for folder in ['benign', 'malignant']:\n",
    "        folder_path = os.path.join(directory, folder)\n",
    "        for file in os.listdir(folder_path):\n",
    "            file_path = os.path.join(folder_path, file)\n",
    "            # Open the image\n",
    "            with Image.open(file_path) as img:\n",
    "                img_size = img.size[0] * img.size[1]  # Width * Height to get the size\n",
    "                # Update the largest and smallest image if necessary\n",
    "                if img_size > largest_size:\n",
    "                    largest_size = img_size\n",
    "                    largest_image = file_path, img.size\n",
    "                if img_size < smallest_size:\n",
    "                    smallest_size = img_size\n",
    "                    smallest_image = file_path, img.size\n",
    "\n",
    "    return largest_image, smallest_image\n",
    "\n",
    "# Find the largest and smallest images in the train and test directories\n",
    "largest_train_image, smallest_train_image = find_extreme_images(train_directory)\n",
    "largest_test_image, smallest_test_image = find_extreme_images(test_directory)\n",
    "\n",
    "# Print results\n",
    "print(\"Largest image in the train directory:\")\n",
    "print(\"File Path:\", largest_train_image[0])\n",
    "print(\"Size (Width x Height):\", largest_train_image[1])\n",
    "print(\"\\nSmallest image in the train directory:\")\n",
    "print(\"File Path:\", smallest_train_image[0])\n",
    "print(\"Size (Width x Height):\", smallest_train_image[1])\n",
    "print(\"\\nLargest image in the test directory:\")\n",
    "print(\"File Path:\", largest_test_image[0])\n",
    "print(\"Size (Width x Height):\", largest_test_image[1])\n",
    "print(\"\\nSmallest image in the test directory:\")\n",
    "print(\"File Path:\", smallest_test_image[0])\n",
    "print(\"Size (Width x Height):\", smallest_test_image[1])"
   ]
  },
  {
   "cell_type": "code",
   "execution_count": 8,
   "metadata": {},
   "outputs": [
    {
     "name": "stdout",
     "output_type": "stream",
     "text": [
      "Resized images and created X and y arrays.\n",
      "X_train shape: (6327, 128, 128, 3)\n",
      "y_train shape: (6327,)\n",
      "X_test shape: (1582, 128, 128, 3)\n",
      "y_test shape: (1582,)\n"
     ]
    }
   ],
   "source": [
    "source_folders = ['benign', 'malignant']\n",
    "\n",
    "# Initialize empty lists for train and test data\n",
    "X_train = []\n",
    "y_train = []\n",
    "X_test = []\n",
    "y_test = []\n",
    "\n",
    "# Function to resize images and create numpy arrays\n",
    "def resize_and_create_arrays(directory, X, y, target_size=(128, 128)):\n",
    "    for folder in os.listdir(directory):\n",
    "        folder_path = os.path.join(directory, folder)\n",
    "        if os.path.isdir(folder_path) and folder in source_folders:\n",
    "            label = source_folders.index(folder)  # 0 for benign, 1 for malignant\n",
    "            for file in os.listdir(folder_path):\n",
    "                file_path = os.path.join(folder_path, file)\n",
    "                try:\n",
    "                    with Image.open(file_path) as img:\n",
    "                        # Resize image to target size\n",
    "                        img_resized = img.resize(target_size)\n",
    "                        # Convert image to numpy array\n",
    "                        img_array = np.array(img_resized)\n",
    "                        # Append image array to X and label to y\n",
    "                        X.append(img_array)\n",
    "                        y.append(label)\n",
    "                except Exception as e:\n",
    "                    print(f\"Error processing {file_path}: {e}\")\n",
    "\n",
    "# Resize images and create arrays for the train directory\n",
    "resize_and_create_arrays(train_directory, X_train, y_train)\n",
    "\n",
    "# Resize images andcreate arrays for the test directory\n",
    "resize_and_create_arrays(test_directory, X_test, y_test)\n",
    "\n",
    "# Convert lists to numpy arrays\n",
    "X_train = np.array(X_train)\n",
    "y_train = np.array(y_train)\n",
    "X_test = np.array(X_test)\n",
    "y_test = np.array(y_test)\n",
    "\n",
    "# Print dataset information\n",
    "print(\"Resized images and created X and y arrays.\")\n",
    "print(\"X_train shape:\", X_train.shape)\n",
    "print(\"y_train shape:\", y_train.shape)\n",
    "print(\"X_test shape:\", X_test.shape)\n",
    "print(\"y_test shape:\", y_test.shape)"
   ]
  },
  {
   "cell_type": "code",
   "execution_count": 9,
   "metadata": {},
   "outputs": [],
   "source": [
    "X_train = X_train.astype('float32') / 255\n",
    "X_test = X_test.astype('float32') / 255"
   ]
  },
  {
   "cell_type": "code",
   "execution_count": 10,
   "metadata": {},
   "outputs": [],
   "source": [
    "X_train, y_train = shuffle(X_train, y_train, random_state=42)"
   ]
  },
  {
   "cell_type": "code",
   "execution_count": 11,
   "metadata": {},
   "outputs": [],
   "source": [
    "X_train= tf.constant(X_train, dtype='float32')\n",
    "X_test= tf.constant(X_test, dtype='float32')\n",
    "y_train= tf.constant(y_train, dtype='float32')\n",
    "y_test= tf.constant(y_test, dtype='float32')"
   ]
  },
  {
   "cell_type": "markdown",
   "metadata": {},
   "source": [
    "# model"
   ]
  },
  {
   "cell_type": "code",
   "execution_count": 9,
   "metadata": {},
   "outputs": [],
   "source": [
    "def build_model(hp):\n",
    "    model = keras.Sequential()\n",
    "\n",
    "    for layer_i in range(1, hp.Int(\"num_conv_layers\", 2, 7)):\n",
    "        model.add(\n",
    "            keras.layers.Conv2D(\n",
    "                filters=hp.Int(\"filters_\" + str(layer_i), min_value=16, max_value=64, step=8),\n",
    "                kernel_size=3,\n",
    "                activation=\"relu\",\n",
    "                padding=\"same\"\n",
    "            )\n",
    "        )\n",
    "        model.add(\n",
    "            keras.layers.MaxPooling2D(pool_size=(2, 2))\n",
    "        )\n",
    "\n",
    "    model.add(keras.layers.Flatten())\n",
    "\n",
    "    for layer_j in range(1, hp.Int(\"num_dense_layers\", 2, 6)):\n",
    "        model.add(\n",
    "            keras.layers.Dense(\n",
    "                units=hp.Int(\"units_\" + str(layer_j), min_value=16, max_value=216, step=16)\n",
    "            )\n",
    "        )\n",
    "\n",
    "        model.add(keras.layers.Dropout(hp.Float(\"dropout_\" + str(layer_j), 0, 0.5, step=0.1)))\n",
    "    \n",
    "    model.add(keras.layers.Dense(1, activation=\"sigmoid\"))\n",
    "\n",
    "    hp_learning_rate = hp.Choice(\"learning_rate\", values=[1e-2, 1e-3, 1e-4])\n",
    "    optimizer=hp.Choice(\"optimizer\", values=[\"adam\", \n",
    "                                            #\"adopt\", \n",
    "                                            \"rmsprop\"])\n",
    "    if optimizer==\"adam\":\n",
    "        optimizer = keras.optimizers.Adam(learning_rate=hp_learning_rate)\n",
    "    elif optimizer==\"adopt\":\n",
    "        #optimizer = ADOPT(lr=hp_learning_rate)\n",
    "        pass\n",
    "    elif optimizer==\"rmsprop\":\n",
    "        optimizer = keras.optimizers.RMSprop(learning_rate=hp_learning_rate)\n",
    "    else:\n",
    "        raise ValueError(\"unknown optimizer\")\n",
    "\n",
    "    # Define optimizer, loss, and metrics\n",
    "    model.compile(optimizer=optimizer,\n",
    "                  loss=\"binary_crossentropy\",\n",
    "                  metrics=[\"accuracy\"])\n",
    "\n",
    "    return model"
   ]
  },
  {
   "cell_type": "code",
   "execution_count": 10,
   "metadata": {},
   "outputs": [
    {
     "name": "stdout",
     "output_type": "stream",
     "text": [
      "Reloading Tuner from .\\untitled_project\\tuner0.json\n",
      "Search space summary\n",
      "Default search space size: 20\n",
      "num_conv_layers (Int)\n",
      "{'default': None, 'conditions': [], 'min_value': 2, 'max_value': 7, 'step': 1, 'sampling': 'linear'}\n",
      "filters_1 (Int)\n",
      "{'default': None, 'conditions': [], 'min_value': 16, 'max_value': 64, 'step': 8, 'sampling': 'linear'}\n",
      "num_dense_layers (Int)\n",
      "{'default': None, 'conditions': [], 'min_value': 2, 'max_value': 6, 'step': 1, 'sampling': 'linear'}\n",
      "units_1 (Int)\n",
      "{'default': None, 'conditions': [], 'min_value': 16, 'max_value': 216, 'step': 16, 'sampling': 'linear'}\n",
      "dropout_1 (Float)\n",
      "{'default': 0.0, 'conditions': [], 'min_value': 0.0, 'max_value': 0.5, 'step': 0.1, 'sampling': 'linear'}\n",
      "learning_rate (Choice)\n",
      "{'default': 0.01, 'conditions': [], 'values': [0.01, 0.001, 0.0001], 'ordered': True}\n",
      "optimizer (Choice)\n",
      "{'default': 'adam', 'conditions': [], 'values': ['adam', 'rmsprop'], 'ordered': False}\n",
      "units_2 (Int)\n",
      "{'default': None, 'conditions': [], 'min_value': 16, 'max_value': 216, 'step': 16, 'sampling': 'linear'}\n",
      "dropout_2 (Float)\n",
      "{'default': 0.0, 'conditions': [], 'min_value': 0.0, 'max_value': 0.5, 'step': 0.1, 'sampling': 'linear'}\n",
      "units_3 (Int)\n",
      "{'default': None, 'conditions': [], 'min_value': 16, 'max_value': 216, 'step': 16, 'sampling': 'linear'}\n",
      "dropout_3 (Float)\n",
      "{'default': 0.0, 'conditions': [], 'min_value': 0.0, 'max_value': 0.5, 'step': 0.1, 'sampling': 'linear'}\n",
      "units_4 (Int)\n",
      "{'default': None, 'conditions': [], 'min_value': 16, 'max_value': 216, 'step': 16, 'sampling': 'linear'}\n",
      "dropout_4 (Float)\n",
      "{'default': 0.0, 'conditions': [], 'min_value': 0.0, 'max_value': 0.5, 'step': 0.1, 'sampling': 'linear'}\n",
      "filters_2 (Int)\n",
      "{'default': None, 'conditions': [], 'min_value': 16, 'max_value': 64, 'step': 8, 'sampling': 'linear'}\n",
      "filters_3 (Int)\n",
      "{'default': None, 'conditions': [], 'min_value': 16, 'max_value': 64, 'step': 8, 'sampling': 'linear'}\n",
      "filters_4 (Int)\n",
      "{'default': None, 'conditions': [], 'min_value': 16, 'max_value': 64, 'step': 8, 'sampling': 'linear'}\n",
      "units_5 (Int)\n",
      "{'default': None, 'conditions': [], 'min_value': 16, 'max_value': 216, 'step': 16, 'sampling': 'linear'}\n",
      "dropout_5 (Float)\n",
      "{'default': 0.0, 'conditions': [], 'min_value': 0.0, 'max_value': 0.5, 'step': 0.1, 'sampling': 'linear'}\n",
      "filters_5 (Int)\n",
      "{'default': None, 'conditions': [], 'min_value': 16, 'max_value': 64, 'step': 8, 'sampling': 'linear'}\n",
      "filters_6 (Int)\n",
      "{'default': None, 'conditions': [], 'min_value': 16, 'max_value': 64, 'step': 8, 'sampling': 'linear'}\n"
     ]
    }
   ],
   "source": [
    "tuner = kt.Hyperband(build_model,\n",
    "                     objective=\"val_loss\",\n",
    "                     max_epochs=150)\n",
    "\n",
    "tuner.search_space_summary()"
   ]
  },
  {
   "cell_type": "code",
   "execution_count": 11,
   "metadata": {},
   "outputs": [],
   "source": [
    "stop_early = keras.callbacks.EarlyStopping(monitor='val_loss', patience=5, restore_best_weights=True)\n",
    "reduce_lr = keras.callbacks.ReduceLROnPlateau(monitor='val_loss', factor=0.5, patience=3, min_lr=1e-6)\n",
    "\n",
    "tuner.search(X_train, y_train, epochs=100, validation_split=0.25, callbacks=[stop_early, reduce_lr])"
   ]
  },
  {
   "cell_type": "code",
   "execution_count": 12,
   "metadata": {},
   "outputs": [
    {
     "name": "stdout",
     "output_type": "stream",
     "text": [
      "{'num_conv_layers': 6, 'filters_1': 40, 'num_dense_layers': 2, 'units_1': 176, 'dropout_1': 0.1, 'learning_rate': 0.0001, 'optimizer': 'adam', 'units_2': 208, 'dropout_2': 0.0, 'units_3': 48, 'dropout_3': 0.1, 'units_4': 16, 'dropout_4': 0.30000000000000004, 'filters_2': 48, 'filters_3': 16, 'filters_4': 24, 'units_5': 80, 'dropout_5': 0.2, 'filters_5': 32, 'filters_6': 40, 'tuner/epochs': 150, 'tuner/initial_epoch': 50, 'tuner/bracket': 1, 'tuner/round': 1, 'tuner/trial_id': '0243'}\n",
      "Epoch 1/100\n",
      "\u001b[1m149/149\u001b[0m \u001b[32m━━━━━━━━━━━━━━━━━━━━\u001b[0m\u001b[37m\u001b[0m \u001b[1m20s\u001b[0m 118ms/step - accuracy: 0.6619 - loss: 0.6010 - val_accuracy: 0.8293 - val_loss: 0.4458 - learning_rate: 1.0000e-04\n",
      "Epoch 2/100\n",
      "\u001b[1m149/149\u001b[0m \u001b[32m━━━━━━━━━━━━━━━━━━━━\u001b[0m\u001b[37m\u001b[0m \u001b[1m17s\u001b[0m 115ms/step - accuracy: 0.8397 - loss: 0.4169 - val_accuracy: 0.8293 - val_loss: 0.4398 - learning_rate: 1.0000e-04\n",
      "Epoch 3/100\n",
      "\u001b[1m149/149\u001b[0m \u001b[32m━━━━━━━━━━━━━━━━━━━━\u001b[0m\u001b[37m\u001b[0m \u001b[1m17s\u001b[0m 117ms/step - accuracy: 0.8381 - loss: 0.4217 - val_accuracy: 0.7927 - val_loss: 0.5112 - learning_rate: 1.0000e-04\n",
      "Epoch 4/100\n",
      "\u001b[1m149/149\u001b[0m \u001b[32m━━━━━━━━━━━━━━━━━━━━\u001b[0m\u001b[37m\u001b[0m \u001b[1m18s\u001b[0m 119ms/step - accuracy: 0.8381 - loss: 0.4225 - val_accuracy: 0.8300 - val_loss: 0.4259 - learning_rate: 1.0000e-04\n",
      "Epoch 5/100\n",
      "\u001b[1m149/149\u001b[0m \u001b[32m━━━━━━━━━━━━━━━━━━━━\u001b[0m\u001b[37m\u001b[0m \u001b[1m18s\u001b[0m 121ms/step - accuracy: 0.8421 - loss: 0.4155 - val_accuracy: 0.8344 - val_loss: 0.4152 - learning_rate: 1.0000e-04\n",
      "Epoch 6/100\n",
      "\u001b[1m149/149\u001b[0m \u001b[32m━━━━━━━━━━━━━━━━━━━━\u001b[0m\u001b[37m\u001b[0m \u001b[1m19s\u001b[0m 127ms/step - accuracy: 0.8566 - loss: 0.3815 - val_accuracy: 0.8369 - val_loss: 0.4039 - learning_rate: 1.0000e-04\n",
      "Epoch 7/100\n",
      "\u001b[1m149/149\u001b[0m \u001b[32m━━━━━━━━━━━━━━━━━━━━\u001b[0m\u001b[37m\u001b[0m \u001b[1m20s\u001b[0m 132ms/step - accuracy: 0.8574 - loss: 0.3794 - val_accuracy: 0.8268 - val_loss: 0.4479 - learning_rate: 1.0000e-04\n",
      "Epoch 8/100\n",
      "\u001b[1m149/149\u001b[0m \u001b[32m━━━━━━━━━━━━━━━━━━━━\u001b[0m\u001b[37m\u001b[0m \u001b[1m19s\u001b[0m 130ms/step - accuracy: 0.8474 - loss: 0.3813 - val_accuracy: 0.8312 - val_loss: 0.3978 - learning_rate: 1.0000e-04\n",
      "Epoch 9/100\n",
      "\u001b[1m149/149\u001b[0m \u001b[32m━━━━━━━━━━━━━━━━━━━━\u001b[0m\u001b[37m\u001b[0m \u001b[1m20s\u001b[0m 134ms/step - accuracy: 0.8527 - loss: 0.3684 - val_accuracy: 0.8401 - val_loss: 0.3795 - learning_rate: 1.0000e-04\n",
      "Epoch 10/100\n",
      "\u001b[1m149/149\u001b[0m \u001b[32m━━━━━━━━━━━━━━━━━━━━\u001b[0m\u001b[37m\u001b[0m \u001b[1m20s\u001b[0m 133ms/step - accuracy: 0.8584 - loss: 0.3685 - val_accuracy: 0.8344 - val_loss: 0.4053 - learning_rate: 1.0000e-04\n",
      "Epoch 11/100\n",
      "\u001b[1m149/149\u001b[0m \u001b[32m━━━━━━━━━━━━━━━━━━━━\u001b[0m\u001b[37m\u001b[0m \u001b[1m20s\u001b[0m 133ms/step - accuracy: 0.8590 - loss: 0.3517 - val_accuracy: 0.8413 - val_loss: 0.3695 - learning_rate: 1.0000e-04\n",
      "Epoch 12/100\n",
      "\u001b[1m149/149\u001b[0m \u001b[32m━━━━━━━━━━━━━━━━━━━━\u001b[0m\u001b[37m\u001b[0m \u001b[1m20s\u001b[0m 132ms/step - accuracy: 0.8589 - loss: 0.3515 - val_accuracy: 0.8458 - val_loss: 0.3674 - learning_rate: 1.0000e-04\n",
      "Epoch 13/100\n",
      "\u001b[1m149/149\u001b[0m \u001b[32m━━━━━━━━━━━━━━━━━━━━\u001b[0m\u001b[37m\u001b[0m \u001b[1m20s\u001b[0m 133ms/step - accuracy: 0.8570 - loss: 0.3552 - val_accuracy: 0.8432 - val_loss: 0.3612 - learning_rate: 1.0000e-04\n",
      "Epoch 14/100\n",
      "\u001b[1m149/149\u001b[0m \u001b[32m━━━━━━━━━━━━━━━━━━━━\u001b[0m\u001b[37m\u001b[0m \u001b[1m20s\u001b[0m 133ms/step - accuracy: 0.8591 - loss: 0.3489 - val_accuracy: 0.8319 - val_loss: 0.3988 - learning_rate: 1.0000e-04\n",
      "Epoch 15/100\n",
      "\u001b[1m149/149\u001b[0m \u001b[32m━━━━━━━━━━━━━━━━━━━━\u001b[0m\u001b[37m\u001b[0m \u001b[1m20s\u001b[0m 133ms/step - accuracy: 0.8664 - loss: 0.3266 - val_accuracy: 0.8559 - val_loss: 0.3461 - learning_rate: 1.0000e-04\n",
      "Epoch 16/100\n",
      "\u001b[1m149/149\u001b[0m \u001b[32m━━━━━━━━━━━━━━━━━━━━\u001b[0m\u001b[37m\u001b[0m \u001b[1m21s\u001b[0m 136ms/step - accuracy: 0.8788 - loss: 0.2993 - val_accuracy: 0.8597 - val_loss: 0.3383 - learning_rate: 1.0000e-04\n",
      "Epoch 17/100\n",
      "\u001b[1m149/149\u001b[0m \u001b[32m━━━━━━━━━━━━━━━━━━━━\u001b[0m\u001b[37m\u001b[0m \u001b[1m23s\u001b[0m 152ms/step - accuracy: 0.8764 - loss: 0.3018 - val_accuracy: 0.8565 - val_loss: 0.3380 - learning_rate: 1.0000e-04\n",
      "Epoch 18/100\n",
      "\u001b[1m149/149\u001b[0m \u001b[32m━━━━━━━━━━━━━━━━━━━━\u001b[0m\u001b[37m\u001b[0m \u001b[1m35s\u001b[0m 113ms/step - accuracy: 0.8790 - loss: 0.3031 - val_accuracy: 0.8729 - val_loss: 0.3195 - learning_rate: 1.0000e-04\n",
      "Epoch 19/100\n",
      "\u001b[1m149/149\u001b[0m \u001b[32m━━━━━━━━━━━━━━━━━━━━\u001b[0m\u001b[37m\u001b[0m \u001b[1m22s\u001b[0m 124ms/step - accuracy: 0.8768 - loss: 0.3069 - val_accuracy: 0.8268 - val_loss: 0.4276 - learning_rate: 1.0000e-04\n",
      "Epoch 20/100\n",
      "\u001b[1m149/149\u001b[0m \u001b[32m━━━━━━━━━━━━━━━━━━━━\u001b[0m\u001b[37m\u001b[0m \u001b[1m21s\u001b[0m 129ms/step - accuracy: 0.8812 - loss: 0.2985 - val_accuracy: 0.8616 - val_loss: 0.3267 - learning_rate: 1.0000e-04\n",
      "Epoch 21/100\n",
      "\u001b[1m149/149\u001b[0m \u001b[32m━━━━━━━━━━━━━━━━━━━━\u001b[0m\u001b[37m\u001b[0m \u001b[1m20s\u001b[0m 132ms/step - accuracy: 0.8829 - loss: 0.2973 - val_accuracy: 0.8534 - val_loss: 0.3515 - learning_rate: 1.0000e-04\n",
      "Epoch 22/100\n",
      "\u001b[1m149/149\u001b[0m \u001b[32m━━━━━━━━━━━━━━━━━━━━\u001b[0m\u001b[37m\u001b[0m \u001b[1m20s\u001b[0m 133ms/step - accuracy: 0.8936 - loss: 0.2654 - val_accuracy: 0.8660 - val_loss: 0.3157 - learning_rate: 5.0000e-05\n",
      "Epoch 23/100\n",
      "\u001b[1m149/149\u001b[0m \u001b[32m━━━━━━━━━━━━━━━━━━━━\u001b[0m\u001b[37m\u001b[0m \u001b[1m20s\u001b[0m 131ms/step - accuracy: 0.8918 - loss: 0.2810 - val_accuracy: 0.8673 - val_loss: 0.3067 - learning_rate: 5.0000e-05\n",
      "Epoch 24/100\n",
      "\u001b[1m149/149\u001b[0m \u001b[32m━━━━━━━━━━━━━━━━━━━━\u001b[0m\u001b[37m\u001b[0m \u001b[1m19s\u001b[0m 130ms/step - accuracy: 0.8986 - loss: 0.2579 - val_accuracy: 0.8609 - val_loss: 0.3288 - learning_rate: 5.0000e-05\n",
      "Epoch 25/100\n",
      "\u001b[1m149/149\u001b[0m \u001b[32m━━━━━━━━━━━━━━━━━━━━\u001b[0m\u001b[37m\u001b[0m \u001b[1m20s\u001b[0m 131ms/step - accuracy: 0.8930 - loss: 0.2664 - val_accuracy: 0.8616 - val_loss: 0.3239 - learning_rate: 5.0000e-05\n",
      "Epoch 26/100\n",
      "\u001b[1m149/149\u001b[0m \u001b[32m━━━━━━━━━━━━━━━━━━━━\u001b[0m\u001b[37m\u001b[0m \u001b[1m20s\u001b[0m 131ms/step - accuracy: 0.8937 - loss: 0.2683 - val_accuracy: 0.8660 - val_loss: 0.2979 - learning_rate: 5.0000e-05\n",
      "Epoch 27/100\n",
      "\u001b[1m149/149\u001b[0m \u001b[32m━━━━━━━━━━━━━━━━━━━━\u001b[0m\u001b[37m\u001b[0m \u001b[1m20s\u001b[0m 131ms/step - accuracy: 0.9035 - loss: 0.2487 - val_accuracy: 0.8780 - val_loss: 0.2860 - learning_rate: 5.0000e-05\n",
      "Epoch 28/100\n",
      "\u001b[1m149/149\u001b[0m \u001b[32m━━━━━━━━━━━━━━━━━━━━\u001b[0m\u001b[37m\u001b[0m \u001b[1m19s\u001b[0m 130ms/step - accuracy: 0.8933 - loss: 0.2569 - val_accuracy: 0.8710 - val_loss: 0.3198 - learning_rate: 5.0000e-05\n",
      "Epoch 29/100\n",
      "\u001b[1m149/149\u001b[0m \u001b[32m━━━━━━━━━━━━━━━━━━━━\u001b[0m\u001b[37m\u001b[0m \u001b[1m20s\u001b[0m 132ms/step - accuracy: 0.8990 - loss: 0.2609 - val_accuracy: 0.8761 - val_loss: 0.2931 - learning_rate: 5.0000e-05\n",
      "Epoch 30/100\n",
      "\u001b[1m149/149\u001b[0m \u001b[32m━━━━━━━━━━━━━━━━━━━━\u001b[0m\u001b[37m\u001b[0m \u001b[1m20s\u001b[0m 132ms/step - accuracy: 0.8875 - loss: 0.2777 - val_accuracy: 0.8761 - val_loss: 0.2941 - learning_rate: 5.0000e-05\n",
      "Epoch 31/100\n",
      "\u001b[1m149/149\u001b[0m \u001b[32m━━━━━━━━━━━━━━━━━━━━\u001b[0m\u001b[37m\u001b[0m \u001b[1m20s\u001b[0m 131ms/step - accuracy: 0.9017 - loss: 0.2418 - val_accuracy: 0.8818 - val_loss: 0.2775 - learning_rate: 2.5000e-05\n",
      "Epoch 32/100\n",
      "\u001b[1m149/149\u001b[0m \u001b[32m━━━━━━━━━━━━━━━━━━━━\u001b[0m\u001b[37m\u001b[0m \u001b[1m19s\u001b[0m 130ms/step - accuracy: 0.9050 - loss: 0.2347 - val_accuracy: 0.8818 - val_loss: 0.2792 - learning_rate: 2.5000e-05\n",
      "Epoch 33/100\n",
      "\u001b[1m149/149\u001b[0m \u001b[32m━━━━━━━━━━━━━━━━━━━━\u001b[0m\u001b[37m\u001b[0m \u001b[1m20s\u001b[0m 131ms/step - accuracy: 0.9118 - loss: 0.2275 - val_accuracy: 0.8793 - val_loss: 0.2769 - learning_rate: 2.5000e-05\n",
      "Epoch 34/100\n",
      "\u001b[1m149/149\u001b[0m \u001b[32m━━━━━━━━━━━━━━━━━━━━\u001b[0m\u001b[37m\u001b[0m \u001b[1m20s\u001b[0m 132ms/step - accuracy: 0.9012 - loss: 0.2453 - val_accuracy: 0.8774 - val_loss: 0.2765 - learning_rate: 2.5000e-05\n",
      "Epoch 35/100\n",
      "\u001b[1m149/149\u001b[0m \u001b[32m━━━━━━━━━━━━━━━━━━━━\u001b[0m\u001b[37m\u001b[0m \u001b[1m20s\u001b[0m 134ms/step - accuracy: 0.9085 - loss: 0.2319 - val_accuracy: 0.8805 - val_loss: 0.2929 - learning_rate: 2.5000e-05\n",
      "Epoch 36/100\n",
      "\u001b[1m149/149\u001b[0m \u001b[32m━━━━━━━━━━━━━━━━━━━━\u001b[0m\u001b[37m\u001b[0m \u001b[1m20s\u001b[0m 133ms/step - accuracy: 0.9107 - loss: 0.2294 - val_accuracy: 0.8869 - val_loss: 0.2676 - learning_rate: 2.5000e-05\n",
      "Epoch 37/100\n",
      "\u001b[1m149/149\u001b[0m \u001b[32m━━━━━━━━━━━━━━━━━━━━\u001b[0m\u001b[37m\u001b[0m \u001b[1m20s\u001b[0m 131ms/step - accuracy: 0.9108 - loss: 0.2217 - val_accuracy: 0.8818 - val_loss: 0.2767 - learning_rate: 2.5000e-05\n",
      "Epoch 38/100\n",
      "\u001b[1m149/149\u001b[0m \u001b[32m━━━━━━━━━━━━━━━━━━━━\u001b[0m\u001b[37m\u001b[0m \u001b[1m19s\u001b[0m 129ms/step - accuracy: 0.9069 - loss: 0.2279 - val_accuracy: 0.8818 - val_loss: 0.2695 - learning_rate: 2.5000e-05\n",
      "Epoch 39/100\n",
      "\u001b[1m149/149\u001b[0m \u001b[32m━━━━━━━━━━━━━━━━━━━━\u001b[0m\u001b[37m\u001b[0m \u001b[1m20s\u001b[0m 131ms/step - accuracy: 0.9112 - loss: 0.2235 - val_accuracy: 0.8824 - val_loss: 0.2694 - learning_rate: 2.5000e-05\n",
      "Epoch 40/100\n",
      "\u001b[1m149/149\u001b[0m \u001b[32m━━━━━━━━━━━━━━━━━━━━\u001b[0m\u001b[37m\u001b[0m \u001b[1m19s\u001b[0m 131ms/step - accuracy: 0.9101 - loss: 0.2238 - val_accuracy: 0.8831 - val_loss: 0.2716 - learning_rate: 1.2500e-05\n",
      "Epoch 41/100\n",
      "\u001b[1m149/149\u001b[0m \u001b[32m━━━━━━━━━━━━━━━━━━━━\u001b[0m\u001b[37m\u001b[0m \u001b[1m20s\u001b[0m 128ms/step - accuracy: 0.9111 - loss: 0.2215 - val_accuracy: 0.8818 - val_loss: 0.2817 - learning_rate: 1.2500e-05\n"
     ]
    },
    {
     "data": {
      "text/html": [
       "<pre style=\"white-space:pre;overflow-x:auto;line-height:normal;font-family:Menlo,'DejaVu Sans Mono',consolas,'Courier New',monospace\"><span style=\"font-weight: bold\">Model: \"sequential\"</span>\n",
       "</pre>\n"
      ],
      "text/plain": [
       "\u001b[1mModel: \"sequential\"\u001b[0m\n"
      ]
     },
     "metadata": {},
     "output_type": "display_data"
    },
    {
     "data": {
      "text/html": [
       "<pre style=\"white-space:pre;overflow-x:auto;line-height:normal;font-family:Menlo,'DejaVu Sans Mono',consolas,'Courier New',monospace\">┏━━━━━━━━━━━━━━━━━━━━━━━━━━━━━━━━━┳━━━━━━━━━━━━━━━━━━━━━━━━┳━━━━━━━━━━━━━━━┓\n",
       "┃<span style=\"font-weight: bold\"> Layer (type)                    </span>┃<span style=\"font-weight: bold\"> Output Shape           </span>┃<span style=\"font-weight: bold\">       Param # </span>┃\n",
       "┡━━━━━━━━━━━━━━━━━━━━━━━━━━━━━━━━━╇━━━━━━━━━━━━━━━━━━━━━━━━╇━━━━━━━━━━━━━━━┩\n",
       "│ conv2d (<span style=\"color: #0087ff; text-decoration-color: #0087ff\">Conv2D</span>)                 │ (<span style=\"color: #00d7ff; text-decoration-color: #00d7ff\">None</span>, <span style=\"color: #00af00; text-decoration-color: #00af00\">128</span>, <span style=\"color: #00af00; text-decoration-color: #00af00\">128</span>, <span style=\"color: #00af00; text-decoration-color: #00af00\">40</span>)   │         <span style=\"color: #00af00; text-decoration-color: #00af00\">1,120</span> │\n",
       "├─────────────────────────────────┼────────────────────────┼───────────────┤\n",
       "│ max_pooling2d (<span style=\"color: #0087ff; text-decoration-color: #0087ff\">MaxPooling2D</span>)    │ (<span style=\"color: #00d7ff; text-decoration-color: #00d7ff\">None</span>, <span style=\"color: #00af00; text-decoration-color: #00af00\">64</span>, <span style=\"color: #00af00; text-decoration-color: #00af00\">64</span>, <span style=\"color: #00af00; text-decoration-color: #00af00\">40</span>)     │             <span style=\"color: #00af00; text-decoration-color: #00af00\">0</span> │\n",
       "├─────────────────────────────────┼────────────────────────┼───────────────┤\n",
       "│ conv2d_1 (<span style=\"color: #0087ff; text-decoration-color: #0087ff\">Conv2D</span>)               │ (<span style=\"color: #00d7ff; text-decoration-color: #00d7ff\">None</span>, <span style=\"color: #00af00; text-decoration-color: #00af00\">64</span>, <span style=\"color: #00af00; text-decoration-color: #00af00\">64</span>, <span style=\"color: #00af00; text-decoration-color: #00af00\">48</span>)     │        <span style=\"color: #00af00; text-decoration-color: #00af00\">17,328</span> │\n",
       "├─────────────────────────────────┼────────────────────────┼───────────────┤\n",
       "│ max_pooling2d_1 (<span style=\"color: #0087ff; text-decoration-color: #0087ff\">MaxPooling2D</span>)  │ (<span style=\"color: #00d7ff; text-decoration-color: #00d7ff\">None</span>, <span style=\"color: #00af00; text-decoration-color: #00af00\">32</span>, <span style=\"color: #00af00; text-decoration-color: #00af00\">32</span>, <span style=\"color: #00af00; text-decoration-color: #00af00\">48</span>)     │             <span style=\"color: #00af00; text-decoration-color: #00af00\">0</span> │\n",
       "├─────────────────────────────────┼────────────────────────┼───────────────┤\n",
       "│ conv2d_2 (<span style=\"color: #0087ff; text-decoration-color: #0087ff\">Conv2D</span>)               │ (<span style=\"color: #00d7ff; text-decoration-color: #00d7ff\">None</span>, <span style=\"color: #00af00; text-decoration-color: #00af00\">32</span>, <span style=\"color: #00af00; text-decoration-color: #00af00\">32</span>, <span style=\"color: #00af00; text-decoration-color: #00af00\">16</span>)     │         <span style=\"color: #00af00; text-decoration-color: #00af00\">6,928</span> │\n",
       "├─────────────────────────────────┼────────────────────────┼───────────────┤\n",
       "│ max_pooling2d_2 (<span style=\"color: #0087ff; text-decoration-color: #0087ff\">MaxPooling2D</span>)  │ (<span style=\"color: #00d7ff; text-decoration-color: #00d7ff\">None</span>, <span style=\"color: #00af00; text-decoration-color: #00af00\">16</span>, <span style=\"color: #00af00; text-decoration-color: #00af00\">16</span>, <span style=\"color: #00af00; text-decoration-color: #00af00\">16</span>)     │             <span style=\"color: #00af00; text-decoration-color: #00af00\">0</span> │\n",
       "├─────────────────────────────────┼────────────────────────┼───────────────┤\n",
       "│ conv2d_3 (<span style=\"color: #0087ff; text-decoration-color: #0087ff\">Conv2D</span>)               │ (<span style=\"color: #00d7ff; text-decoration-color: #00d7ff\">None</span>, <span style=\"color: #00af00; text-decoration-color: #00af00\">16</span>, <span style=\"color: #00af00; text-decoration-color: #00af00\">16</span>, <span style=\"color: #00af00; text-decoration-color: #00af00\">24</span>)     │         <span style=\"color: #00af00; text-decoration-color: #00af00\">3,480</span> │\n",
       "├─────────────────────────────────┼────────────────────────┼───────────────┤\n",
       "│ max_pooling2d_3 (<span style=\"color: #0087ff; text-decoration-color: #0087ff\">MaxPooling2D</span>)  │ (<span style=\"color: #00d7ff; text-decoration-color: #00d7ff\">None</span>, <span style=\"color: #00af00; text-decoration-color: #00af00\">8</span>, <span style=\"color: #00af00; text-decoration-color: #00af00\">8</span>, <span style=\"color: #00af00; text-decoration-color: #00af00\">24</span>)       │             <span style=\"color: #00af00; text-decoration-color: #00af00\">0</span> │\n",
       "├─────────────────────────────────┼────────────────────────┼───────────────┤\n",
       "│ conv2d_4 (<span style=\"color: #0087ff; text-decoration-color: #0087ff\">Conv2D</span>)               │ (<span style=\"color: #00d7ff; text-decoration-color: #00d7ff\">None</span>, <span style=\"color: #00af00; text-decoration-color: #00af00\">8</span>, <span style=\"color: #00af00; text-decoration-color: #00af00\">8</span>, <span style=\"color: #00af00; text-decoration-color: #00af00\">32</span>)       │         <span style=\"color: #00af00; text-decoration-color: #00af00\">6,944</span> │\n",
       "├─────────────────────────────────┼────────────────────────┼───────────────┤\n",
       "│ max_pooling2d_4 (<span style=\"color: #0087ff; text-decoration-color: #0087ff\">MaxPooling2D</span>)  │ (<span style=\"color: #00d7ff; text-decoration-color: #00d7ff\">None</span>, <span style=\"color: #00af00; text-decoration-color: #00af00\">4</span>, <span style=\"color: #00af00; text-decoration-color: #00af00\">4</span>, <span style=\"color: #00af00; text-decoration-color: #00af00\">32</span>)       │             <span style=\"color: #00af00; text-decoration-color: #00af00\">0</span> │\n",
       "├─────────────────────────────────┼────────────────────────┼───────────────┤\n",
       "│ flatten (<span style=\"color: #0087ff; text-decoration-color: #0087ff\">Flatten</span>)               │ (<span style=\"color: #00d7ff; text-decoration-color: #00d7ff\">None</span>, <span style=\"color: #00af00; text-decoration-color: #00af00\">512</span>)            │             <span style=\"color: #00af00; text-decoration-color: #00af00\">0</span> │\n",
       "├─────────────────────────────────┼────────────────────────┼───────────────┤\n",
       "│ dense (<span style=\"color: #0087ff; text-decoration-color: #0087ff\">Dense</span>)                   │ (<span style=\"color: #00d7ff; text-decoration-color: #00d7ff\">None</span>, <span style=\"color: #00af00; text-decoration-color: #00af00\">176</span>)            │        <span style=\"color: #00af00; text-decoration-color: #00af00\">90,288</span> │\n",
       "├─────────────────────────────────┼────────────────────────┼───────────────┤\n",
       "│ dropout (<span style=\"color: #0087ff; text-decoration-color: #0087ff\">Dropout</span>)               │ (<span style=\"color: #00d7ff; text-decoration-color: #00d7ff\">None</span>, <span style=\"color: #00af00; text-decoration-color: #00af00\">176</span>)            │             <span style=\"color: #00af00; text-decoration-color: #00af00\">0</span> │\n",
       "├─────────────────────────────────┼────────────────────────┼───────────────┤\n",
       "│ dense_1 (<span style=\"color: #0087ff; text-decoration-color: #0087ff\">Dense</span>)                 │ (<span style=\"color: #00d7ff; text-decoration-color: #00d7ff\">None</span>, <span style=\"color: #00af00; text-decoration-color: #00af00\">1</span>)              │           <span style=\"color: #00af00; text-decoration-color: #00af00\">177</span> │\n",
       "└─────────────────────────────────┴────────────────────────┴───────────────┘\n",
       "</pre>\n"
      ],
      "text/plain": [
       "┏━━━━━━━━━━━━━━━━━━━━━━━━━━━━━━━━━┳━━━━━━━━━━━━━━━━━━━━━━━━┳━━━━━━━━━━━━━━━┓\n",
       "┃\u001b[1m \u001b[0m\u001b[1mLayer (type)                   \u001b[0m\u001b[1m \u001b[0m┃\u001b[1m \u001b[0m\u001b[1mOutput Shape          \u001b[0m\u001b[1m \u001b[0m┃\u001b[1m \u001b[0m\u001b[1m      Param #\u001b[0m\u001b[1m \u001b[0m┃\n",
       "┡━━━━━━━━━━━━━━━━━━━━━━━━━━━━━━━━━╇━━━━━━━━━━━━━━━━━━━━━━━━╇━━━━━━━━━━━━━━━┩\n",
       "│ conv2d (\u001b[38;5;33mConv2D\u001b[0m)                 │ (\u001b[38;5;45mNone\u001b[0m, \u001b[38;5;34m128\u001b[0m, \u001b[38;5;34m128\u001b[0m, \u001b[38;5;34m40\u001b[0m)   │         \u001b[38;5;34m1,120\u001b[0m │\n",
       "├─────────────────────────────────┼────────────────────────┼───────────────┤\n",
       "│ max_pooling2d (\u001b[38;5;33mMaxPooling2D\u001b[0m)    │ (\u001b[38;5;45mNone\u001b[0m, \u001b[38;5;34m64\u001b[0m, \u001b[38;5;34m64\u001b[0m, \u001b[38;5;34m40\u001b[0m)     │             \u001b[38;5;34m0\u001b[0m │\n",
       "├─────────────────────────────────┼────────────────────────┼───────────────┤\n",
       "│ conv2d_1 (\u001b[38;5;33mConv2D\u001b[0m)               │ (\u001b[38;5;45mNone\u001b[0m, \u001b[38;5;34m64\u001b[0m, \u001b[38;5;34m64\u001b[0m, \u001b[38;5;34m48\u001b[0m)     │        \u001b[38;5;34m17,328\u001b[0m │\n",
       "├─────────────────────────────────┼────────────────────────┼───────────────┤\n",
       "│ max_pooling2d_1 (\u001b[38;5;33mMaxPooling2D\u001b[0m)  │ (\u001b[38;5;45mNone\u001b[0m, \u001b[38;5;34m32\u001b[0m, \u001b[38;5;34m32\u001b[0m, \u001b[38;5;34m48\u001b[0m)     │             \u001b[38;5;34m0\u001b[0m │\n",
       "├─────────────────────────────────┼────────────────────────┼───────────────┤\n",
       "│ conv2d_2 (\u001b[38;5;33mConv2D\u001b[0m)               │ (\u001b[38;5;45mNone\u001b[0m, \u001b[38;5;34m32\u001b[0m, \u001b[38;5;34m32\u001b[0m, \u001b[38;5;34m16\u001b[0m)     │         \u001b[38;5;34m6,928\u001b[0m │\n",
       "├─────────────────────────────────┼────────────────────────┼───────────────┤\n",
       "│ max_pooling2d_2 (\u001b[38;5;33mMaxPooling2D\u001b[0m)  │ (\u001b[38;5;45mNone\u001b[0m, \u001b[38;5;34m16\u001b[0m, \u001b[38;5;34m16\u001b[0m, \u001b[38;5;34m16\u001b[0m)     │             \u001b[38;5;34m0\u001b[0m │\n",
       "├─────────────────────────────────┼────────────────────────┼───────────────┤\n",
       "│ conv2d_3 (\u001b[38;5;33mConv2D\u001b[0m)               │ (\u001b[38;5;45mNone\u001b[0m, \u001b[38;5;34m16\u001b[0m, \u001b[38;5;34m16\u001b[0m, \u001b[38;5;34m24\u001b[0m)     │         \u001b[38;5;34m3,480\u001b[0m │\n",
       "├─────────────────────────────────┼────────────────────────┼───────────────┤\n",
       "│ max_pooling2d_3 (\u001b[38;5;33mMaxPooling2D\u001b[0m)  │ (\u001b[38;5;45mNone\u001b[0m, \u001b[38;5;34m8\u001b[0m, \u001b[38;5;34m8\u001b[0m, \u001b[38;5;34m24\u001b[0m)       │             \u001b[38;5;34m0\u001b[0m │\n",
       "├─────────────────────────────────┼────────────────────────┼───────────────┤\n",
       "│ conv2d_4 (\u001b[38;5;33mConv2D\u001b[0m)               │ (\u001b[38;5;45mNone\u001b[0m, \u001b[38;5;34m8\u001b[0m, \u001b[38;5;34m8\u001b[0m, \u001b[38;5;34m32\u001b[0m)       │         \u001b[38;5;34m6,944\u001b[0m │\n",
       "├─────────────────────────────────┼────────────────────────┼───────────────┤\n",
       "│ max_pooling2d_4 (\u001b[38;5;33mMaxPooling2D\u001b[0m)  │ (\u001b[38;5;45mNone\u001b[0m, \u001b[38;5;34m4\u001b[0m, \u001b[38;5;34m4\u001b[0m, \u001b[38;5;34m32\u001b[0m)       │             \u001b[38;5;34m0\u001b[0m │\n",
       "├─────────────────────────────────┼────────────────────────┼───────────────┤\n",
       "│ flatten (\u001b[38;5;33mFlatten\u001b[0m)               │ (\u001b[38;5;45mNone\u001b[0m, \u001b[38;5;34m512\u001b[0m)            │             \u001b[38;5;34m0\u001b[0m │\n",
       "├─────────────────────────────────┼────────────────────────┼───────────────┤\n",
       "│ dense (\u001b[38;5;33mDense\u001b[0m)                   │ (\u001b[38;5;45mNone\u001b[0m, \u001b[38;5;34m176\u001b[0m)            │        \u001b[38;5;34m90,288\u001b[0m │\n",
       "├─────────────────────────────────┼────────────────────────┼───────────────┤\n",
       "│ dropout (\u001b[38;5;33mDropout\u001b[0m)               │ (\u001b[38;5;45mNone\u001b[0m, \u001b[38;5;34m176\u001b[0m)            │             \u001b[38;5;34m0\u001b[0m │\n",
       "├─────────────────────────────────┼────────────────────────┼───────────────┤\n",
       "│ dense_1 (\u001b[38;5;33mDense\u001b[0m)                 │ (\u001b[38;5;45mNone\u001b[0m, \u001b[38;5;34m1\u001b[0m)              │           \u001b[38;5;34m177\u001b[0m │\n",
       "└─────────────────────────────────┴────────────────────────┴───────────────┘\n"
      ]
     },
     "metadata": {},
     "output_type": "display_data"
    },
    {
     "data": {
      "text/html": [
       "<pre style=\"white-space:pre;overflow-x:auto;line-height:normal;font-family:Menlo,'DejaVu Sans Mono',consolas,'Courier New',monospace\"><span style=\"font-weight: bold\"> Total params: </span><span style=\"color: #00af00; text-decoration-color: #00af00\">378,797</span> (1.44 MB)\n",
       "</pre>\n"
      ],
      "text/plain": [
       "\u001b[1m Total params: \u001b[0m\u001b[38;5;34m378,797\u001b[0m (1.44 MB)\n"
      ]
     },
     "metadata": {},
     "output_type": "display_data"
    },
    {
     "data": {
      "text/html": [
       "<pre style=\"white-space:pre;overflow-x:auto;line-height:normal;font-family:Menlo,'DejaVu Sans Mono',consolas,'Courier New',monospace\"><span style=\"font-weight: bold\"> Trainable params: </span><span style=\"color: #00af00; text-decoration-color: #00af00\">126,265</span> (493.22 KB)\n",
       "</pre>\n"
      ],
      "text/plain": [
       "\u001b[1m Trainable params: \u001b[0m\u001b[38;5;34m126,265\u001b[0m (493.22 KB)\n"
      ]
     },
     "metadata": {},
     "output_type": "display_data"
    },
    {
     "data": {
      "text/html": [
       "<pre style=\"white-space:pre;overflow-x:auto;line-height:normal;font-family:Menlo,'DejaVu Sans Mono',consolas,'Courier New',monospace\"><span style=\"font-weight: bold\"> Non-trainable params: </span><span style=\"color: #00af00; text-decoration-color: #00af00\">0</span> (0.00 B)\n",
       "</pre>\n"
      ],
      "text/plain": [
       "\u001b[1m Non-trainable params: \u001b[0m\u001b[38;5;34m0\u001b[0m (0.00 B)\n"
      ]
     },
     "metadata": {},
     "output_type": "display_data"
    },
    {
     "data": {
      "text/html": [
       "<pre style=\"white-space:pre;overflow-x:auto;line-height:normal;font-family:Menlo,'DejaVu Sans Mono',consolas,'Courier New',monospace\"><span style=\"font-weight: bold\"> Optimizer params: </span><span style=\"color: #00af00; text-decoration-color: #00af00\">252,532</span> (986.46 KB)\n",
       "</pre>\n"
      ],
      "text/plain": [
       "\u001b[1m Optimizer params: \u001b[0m\u001b[38;5;34m252,532\u001b[0m (986.46 KB)\n"
      ]
     },
     "metadata": {},
     "output_type": "display_data"
    }
   ],
   "source": [
    "best_hp=tuner.get_best_hyperparameters()[0]\n",
    "print(best_hp.values)\n",
    "best_model= tuner.hypermodel.build(best_hp)\n",
    "history = best_model.fit(X_train, y_train, epochs=100, validation_split=0.25, callbacks=[stop_early, reduce_lr]) # MUST BE 100\n",
    "best_model.summary()"
   ]
  },
  {
   "cell_type": "code",
   "execution_count": 13,
   "metadata": {},
   "outputs": [
    {
     "data": {
      "image/png": "[encoded data removed]",
      "text/plain": [
       "<Figure size 1200x600 with 2 Axes>"
      ]
     },
     "metadata": {},
     "output_type": "display_data"
    }
   ],
   "source": [
    "# Plotting training and validation loss and accuracy\n",
    "plt.figure(figsize=(12, 6))\n",
    "plt.subplot(1, 2, 1)\n",
    "plt.plot(history.history['loss'], label='Training Loss')\n",
    "plt.plot(history.history['val_loss'], label='Validation Loss')\n",
    "plt.title('Loss')\n",
    "plt.xlabel('Epochs')\n",
    "plt.ylabel('Loss')\n",
    "plt.legend()\n",
    "\n",
    "plt.subplot(1, 2, 2)\n",
    "plt.plot(history.history['accuracy'], label='Training Accuracy')\n",
    "plt.plot(history.history['val_accuracy'], label='Validation Accuracy')\n",
    "plt.title('Accuracy')\n",
    "plt.xlabel('Epochs')\n",
    "plt.ylabel('Accuracy')\n",
    "plt.legend()\n",
    "\n",
    "plt.tight_layout()\n",
    "plt.show()"
   ]
  },
  {
   "cell_type": "code",
   "execution_count": 14,
   "metadata": {},
   "outputs": [
    {
     "name": "stdout",
     "output_type": "stream",
     "text": [
      "\u001b[1m50/50\u001b[0m \u001b[32m━━━━━━━━━━━━━━━━━━━━\u001b[0m\u001b[37m\u001b[0m \u001b[1m2s\u001b[0m 36ms/step\n",
      "\u001b[1m50/50\u001b[0m \u001b[32m━━━━━━━━━━━━━━━━━━━━\u001b[0m\u001b[37m\u001b[0m \u001b[1m2s\u001b[0m 35ms/step - accuracy: 0.8750 - loss: 0.3083\n",
      "Test Loss: 0.23715902864933014\n",
      "Test Accuracy: 0.9045512080192566\n",
      "\n",
      "\n",
      "              precision    recall  f1-score   support\n",
      "\n",
      "         0.0       0.88      0.80      0.84       496\n",
      "         1.0       0.91      0.95      0.93      1086\n",
      "\n",
      "    accuracy                           0.90      1582\n",
      "   macro avg       0.90      0.88      0.89      1582\n",
      "weighted avg       0.90      0.90      0.90      1582\n",
      "\n"
     ]
    }
   ],
   "source": [
    "y_test_predicted = best_model.predict(X_test)\n",
    "y_pred_binary = (y_test_predicted > 0.5).astype(int)\n",
    "\n",
    "test_loss, test_accuracy = best_model.evaluate(X_test, y_test)\n",
    "print(f'Test Loss: {test_loss}')\n",
    "print(f'Test Accuracy: {test_accuracy}\\n\\n')\n",
    "\n",
    "print(classification_report(y_test, y_pred_binary))"
   ]
  }
 ],
 "metadata": {
  "kernelspec": {
   "display_name": "deep_learning",
   "language": "python",
   "name": "python3"
  },
  "language_info": {
   "codemirror_mode": {
    "name": "ipython",
    "version": 3
   },
   "file_extension": ".py",
   "mimetype": "text/x-python",
   "name": "python",
   "nbconvert_exporter": "python",
   "pygments_lexer": "ipython3",
   "version": "3.9.19"
  }
 },
 "nbformat": 4,
 "nbformat_minor": 2
}
